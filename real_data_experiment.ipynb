{
 "cells": [
  {
   "cell_type": "code",
   "execution_count": 25,
   "metadata": {},
   "outputs": [],
   "source": [
    "import coneClustering\n",
    "import numpy as np\n",
    "from sklearn.datasets import fetch_olivetti_faces, fetch_openml  # Similar, or use your ORL data\n",
    "from sklearn.decomposition import PCA"
   ]
  },
  {
   "cell_type": "markdown",
   "metadata": {},
   "source": [
    "## Olivetti face dataset"
   ]
  },
  {
   "cell_type": "code",
   "execution_count": 14,
   "metadata": {},
   "outputs": [],
   "source": [
    "# Example: load dataset (fetch_olivetti_faces is a nice substitute for ORL if you don't have it locally)\n",
    "faces = fetch_olivetti_faces(shuffle=True, random_state=42)\n",
    "X = faces.data.T  # (d, n) --> exactly what your algorithm expects\n",
    "true_labels = faces.target  # (n,)\n",
    "\n",
    "mask = faces.target < 6\n",
    "X_subset = faces.data[mask].T  # Shape (4096, 100)\n",
    "true_labels_subset = faces.target[mask]\n"
   ]
  },
  {
   "cell_type": "code",
   "execution_count": 21,
   "metadata": {},
   "outputs": [
    {
     "name": "stdout",
     "output_type": "stream",
     "text": [
      "length of cluster_labels:  60\n",
      "SSC Accuracy: 0.4939\n"
     ]
    }
   ],
   "source": [
    "_, ssc_accuracy = coneClustering.baseline_ssc(X_subset, true_labels_subset, alpha=1e-3)\n",
    "print(f\"SSC Accuracy: {ssc_accuracy:.4f}\")"
   ]
  },
  {
   "cell_type": "code",
   "execution_count": 23,
   "metadata": {},
   "outputs": [],
   "source": [
    "accuracy, reconstruction_error, neg_prop = coneClustering.iter_reg_coneclus(\n",
    "    X_subset,\n",
    "    K=6,   # 6 subjects\n",
    "    r=5,    # start with r=5 or r=7\n",
    "    true_labels=true_labels_subset,\n",
    "    max_iter=100,\n",
    "    random_state=42,\n",
    "    alpha=2.3,\n",
    "    ord=2\n",
    ")"
   ]
  },
  {
   "cell_type": "markdown",
   "metadata": {},
   "source": [
    "## RICC"
   ]
  },
  {
   "cell_type": "code",
   "execution_count": 24,
   "metadata": {},
   "outputs": [
    {
     "data": {
      "text/plain": [
       "0.041146077970878346"
      ]
     },
     "execution_count": 24,
     "metadata": {},
     "output_type": "execute_result"
    }
   ],
   "source": [
    "accuracy"
   ]
  },
  {
   "cell_type": "markdown",
   "metadata": {},
   "source": [
    "## MNIST"
   ]
  },
  {
   "cell_type": "code",
   "execution_count": null,
   "metadata": {},
   "outputs": [
    {
     "name": "stderr",
     "output_type": "stream",
     "text": [
      "/Users/xrong8/anaconda3/envs/pytorch/lib/python3.8/site-packages/sklearn/datasets/_openml.py:1022: FutureWarning: The default value of `parser` will change from `'liac-arff'` to `'auto'` in 1.4. You can set `parser='auto'` to silence this warning. Therefore, an `ImportError` will be raised from 1.4 if the dataset is dense and pandas is not installed. Note that the pandas parser may return different data types. See the Notes Section in fetch_openml's API doc for details.\n",
      "  warn(\n"
     ]
    },
    {
     "name": "stdout",
     "output_type": "stream",
     "text": [
      "X shape: (784, 35735)\n",
      "true_labels shape: (35735,)\n"
     ]
    }
   ],
   "source": [
    "mnist = fetch_openml('mnist_784', version=1)\n",
    "X_full = mnist.data.to_numpy()  # shape (70000, 784)\n",
    "y_full = mnist.target.to_numpy().astype(int)  # shape (70000,)\n",
    "\n",
    "# 2. Subset 500 images per digit\n",
    "X_list = []\n",
    "labels = []\n",
    "\n",
    "for digit in range(5):\n",
    "    idx = np.where(y_full == digit)[0]\n",
    "    selected_idx = np.random.choice(idx, 50, replace=False)  # randomly select 500 images\n",
    "    X_list.append(X_full[selected_idx])\n",
    "    labels.append(np.full(len(selected_idx), digit))\n",
    "\n",
    "X_subset = np.vstack(X_list)  # shape (5000, 784)\n",
    "true_labels = np.concatenate(labels)  # shape (5000,)\n",
    "\n",
    "# 3. Transpose for your algorithm (your method expects (d, n))\n",
    "X_subset = X_subset.T  # Now (784, 5000)\n",
    "\n",
    "print(f\"X shape: {X_subset.shape}\")\n",
    "print(f\"true_labels shape: {true_labels.shape}\")\n"
   ]
  },
  {
   "cell_type": "code",
   "execution_count": null,
   "metadata": {},
   "outputs": [],
   "source": [
    "# 4. Run your algorithm\n",
    "accuracy, reconstruction_error, neg_prop = coneClustering.iter_reg_coneclus(\n",
    "    X_subset,\n",
    "    K=10,  # 10 digits\n",
    "    r=5,   # Start small, you can tune this\n",
    "    true_labels=true_labels,\n",
    "    max_iter=100,\n",
    "    random_state=42,\n",
    "    alpha=0.1,\n",
    "    ord=2\n",
    ")\n",
    "\n",
    "print(f\"Accuracy (ARI): {accuracy:.4f}\")\n",
    "print(f\"Reconstruction Error: {reconstruction_error:.4f}\")\n",
    "print(f\"Proportion of negatives: {neg_prop:.4f}\")"
   ]
  },
  {
   "cell_type": "code",
   "execution_count": 28,
   "metadata": {},
   "outputs": [
    {
     "name": "stderr",
     "output_type": "stream",
     "text": [
      "/Users/xrong8/anaconda3/envs/pytorch/lib/python3.8/site-packages/sklearn/linear_model/_coordinate_descent.py:628: ConvergenceWarning: Objective did not converge. You might want to increase the number of iterations, check the scale of the features or consider increasing regularisation. Duality gap: 1.128e+04, tolerance: 3.245e+02\n",
      "  model = cd_fast.enet_coordinate_descent(\n",
      "/Users/xrong8/anaconda3/envs/pytorch/lib/python3.8/site-packages/sklearn/linear_model/_coordinate_descent.py:628: ConvergenceWarning: Objective did not converge. You might want to increase the number of iterations, check the scale of the features or consider increasing regularisation. Duality gap: 9.091e+02, tolerance: 2.586e+02\n",
      "  model = cd_fast.enet_coordinate_descent(\n",
      "/Users/xrong8/anaconda3/envs/pytorch/lib/python3.8/site-packages/sklearn/linear_model/_coordinate_descent.py:628: ConvergenceWarning: Objective did not converge. You might want to increase the number of iterations, check the scale of the features or consider increasing regularisation. Duality gap: 2.478e+03, tolerance: 3.748e+02\n",
      "  model = cd_fast.enet_coordinate_descent(\n",
      "/Users/xrong8/anaconda3/envs/pytorch/lib/python3.8/site-packages/sklearn/linear_model/_coordinate_descent.py:628: ConvergenceWarning: Objective did not converge. You might want to increase the number of iterations, check the scale of the features or consider increasing regularisation. Duality gap: 4.641e+04, tolerance: 3.695e+02\n",
      "  model = cd_fast.enet_coordinate_descent(\n",
      "/Users/xrong8/anaconda3/envs/pytorch/lib/python3.8/site-packages/sklearn/linear_model/_coordinate_descent.py:628: ConvergenceWarning: Objective did not converge. You might want to increase the number of iterations, check the scale of the features or consider increasing regularisation. Duality gap: 4.598e+02, tolerance: 3.583e+02\n",
      "  model = cd_fast.enet_coordinate_descent(\n",
      "/Users/xrong8/anaconda3/envs/pytorch/lib/python3.8/site-packages/sklearn/linear_model/_coordinate_descent.py:628: ConvergenceWarning: Objective did not converge. You might want to increase the number of iterations, check the scale of the features or consider increasing regularisation. Duality gap: 7.093e+02, tolerance: 2.524e+02\n",
      "  model = cd_fast.enet_coordinate_descent(\n",
      "/Users/xrong8/anaconda3/envs/pytorch/lib/python3.8/site-packages/sklearn/linear_model/_coordinate_descent.py:628: ConvergenceWarning: Objective did not converge. You might want to increase the number of iterations, check the scale of the features or consider increasing regularisation. Duality gap: 1.250e+04, tolerance: 3.774e+02\n",
      "  model = cd_fast.enet_coordinate_descent(\n",
      "/Users/xrong8/anaconda3/envs/pytorch/lib/python3.8/site-packages/sklearn/linear_model/_coordinate_descent.py:628: ConvergenceWarning: Objective did not converge. You might want to increase the number of iterations, check the scale of the features or consider increasing regularisation. Duality gap: 9.295e+02, tolerance: 4.428e+02\n",
      "  model = cd_fast.enet_coordinate_descent(\n",
      "/Users/xrong8/anaconda3/envs/pytorch/lib/python3.8/site-packages/sklearn/linear_model/_coordinate_descent.py:628: ConvergenceWarning: Objective did not converge. You might want to increase the number of iterations, check the scale of the features or consider increasing regularisation. Duality gap: 1.035e+04, tolerance: 5.573e+02\n",
      "  model = cd_fast.enet_coordinate_descent(\n",
      "/Users/xrong8/anaconda3/envs/pytorch/lib/python3.8/site-packages/sklearn/linear_model/_coordinate_descent.py:628: ConvergenceWarning: Objective did not converge. You might want to increase the number of iterations, check the scale of the features or consider increasing regularisation. Duality gap: 4.016e+02, tolerance: 3.297e+02\n",
      "  model = cd_fast.enet_coordinate_descent(\n",
      "/Users/xrong8/anaconda3/envs/pytorch/lib/python3.8/site-packages/sklearn/linear_model/_coordinate_descent.py:628: ConvergenceWarning: Objective did not converge. You might want to increase the number of iterations, check the scale of the features or consider increasing regularisation. Duality gap: 1.985e+03, tolerance: 2.310e+02\n",
      "  model = cd_fast.enet_coordinate_descent(\n",
      "/Users/xrong8/anaconda3/envs/pytorch/lib/python3.8/site-packages/sklearn/linear_model/_coordinate_descent.py:628: ConvergenceWarning: Objective did not converge. You might want to increase the number of iterations, check the scale of the features or consider increasing regularisation. Duality gap: 9.198e+03, tolerance: 3.049e+02\n",
      "  model = cd_fast.enet_coordinate_descent(\n",
      "/Users/xrong8/anaconda3/envs/pytorch/lib/python3.8/site-packages/sklearn/linear_model/_coordinate_descent.py:628: ConvergenceWarning: Objective did not converge. You might want to increase the number of iterations, check the scale of the features or consider increasing regularisation. Duality gap: 1.230e+04, tolerance: 3.137e+02\n",
      "  model = cd_fast.enet_coordinate_descent(\n",
      "/Users/xrong8/anaconda3/envs/pytorch/lib/python3.8/site-packages/sklearn/linear_model/_coordinate_descent.py:628: ConvergenceWarning: Objective did not converge. You might want to increase the number of iterations, check the scale of the features or consider increasing regularisation. Duality gap: 6.988e+03, tolerance: 3.145e+02\n",
      "  model = cd_fast.enet_coordinate_descent(\n",
      "/Users/xrong8/anaconda3/envs/pytorch/lib/python3.8/site-packages/sklearn/linear_model/_coordinate_descent.py:628: ConvergenceWarning: Objective did not converge. You might want to increase the number of iterations, check the scale of the features or consider increasing regularisation. Duality gap: 2.736e+03, tolerance: 4.432e+02\n",
      "  model = cd_fast.enet_coordinate_descent(\n",
      "/Users/xrong8/anaconda3/envs/pytorch/lib/python3.8/site-packages/sklearn/linear_model/_coordinate_descent.py:628: ConvergenceWarning: Objective did not converge. You might want to increase the number of iterations, check the scale of the features or consider increasing regularisation. Duality gap: 2.164e+03, tolerance: 3.163e+02\n",
      "  model = cd_fast.enet_coordinate_descent(\n",
      "/Users/xrong8/anaconda3/envs/pytorch/lib/python3.8/site-packages/sklearn/linear_model/_coordinate_descent.py:628: ConvergenceWarning: Objective did not converge. You might want to increase the number of iterations, check the scale of the features or consider increasing regularisation. Duality gap: 4.019e+03, tolerance: 3.962e+02\n",
      "  model = cd_fast.enet_coordinate_descent(\n",
      "/Users/xrong8/anaconda3/envs/pytorch/lib/python3.8/site-packages/sklearn/linear_model/_coordinate_descent.py:628: ConvergenceWarning: Objective did not converge. You might want to increase the number of iterations, check the scale of the features or consider increasing regularisation. Duality gap: 4.897e+02, tolerance: 3.008e+02\n",
      "  model = cd_fast.enet_coordinate_descent(\n",
      "/Users/xrong8/anaconda3/envs/pytorch/lib/python3.8/site-packages/sklearn/linear_model/_coordinate_descent.py:628: ConvergenceWarning: Objective did not converge. You might want to increase the number of iterations, check the scale of the features or consider increasing regularisation. Duality gap: 2.101e+03, tolerance: 6.431e+02\n",
      "  model = cd_fast.enet_coordinate_descent(\n",
      "/Users/xrong8/anaconda3/envs/pytorch/lib/python3.8/site-packages/sklearn/linear_model/_coordinate_descent.py:628: ConvergenceWarning: Objective did not converge. You might want to increase the number of iterations, check the scale of the features or consider increasing regularisation. Duality gap: 5.476e+03, tolerance: 3.294e+02\n",
      "  model = cd_fast.enet_coordinate_descent(\n",
      "/Users/xrong8/anaconda3/envs/pytorch/lib/python3.8/site-packages/sklearn/linear_model/_coordinate_descent.py:628: ConvergenceWarning: Objective did not converge. You might want to increase the number of iterations, check the scale of the features or consider increasing regularisation. Duality gap: 3.011e+03, tolerance: 9.106e+02\n",
      "  model = cd_fast.enet_coordinate_descent(\n",
      "/Users/xrong8/anaconda3/envs/pytorch/lib/python3.8/site-packages/sklearn/linear_model/_coordinate_descent.py:628: ConvergenceWarning: Objective did not converge. You might want to increase the number of iterations, check the scale of the features or consider increasing regularisation. Duality gap: 2.830e+03, tolerance: 2.840e+02\n",
      "  model = cd_fast.enet_coordinate_descent(\n",
      "/Users/xrong8/anaconda3/envs/pytorch/lib/python3.8/site-packages/sklearn/linear_model/_coordinate_descent.py:628: ConvergenceWarning: Objective did not converge. You might want to increase the number of iterations, check the scale of the features or consider increasing regularisation. Duality gap: 1.577e+04, tolerance: 3.611e+02\n",
      "  model = cd_fast.enet_coordinate_descent(\n",
      "/Users/xrong8/anaconda3/envs/pytorch/lib/python3.8/site-packages/sklearn/linear_model/_coordinate_descent.py:628: ConvergenceWarning: Objective did not converge. You might want to increase the number of iterations, check the scale of the features or consider increasing regularisation. Duality gap: 1.763e+03, tolerance: 4.963e+02\n",
      "  model = cd_fast.enet_coordinate_descent(\n",
      "/Users/xrong8/anaconda3/envs/pytorch/lib/python3.8/site-packages/sklearn/linear_model/_coordinate_descent.py:628: ConvergenceWarning: Objective did not converge. You might want to increase the number of iterations, check the scale of the features or consider increasing regularisation. Duality gap: 8.370e+02, tolerance: 6.981e+02\n",
      "  model = cd_fast.enet_coordinate_descent(\n",
      "/Users/xrong8/anaconda3/envs/pytorch/lib/python3.8/site-packages/sklearn/linear_model/_coordinate_descent.py:628: ConvergenceWarning: Objective did not converge. You might want to increase the number of iterations, check the scale of the features or consider increasing regularisation. Duality gap: 3.849e+03, tolerance: 3.866e+02\n",
      "  model = cd_fast.enet_coordinate_descent(\n",
      "/Users/xrong8/anaconda3/envs/pytorch/lib/python3.8/site-packages/sklearn/linear_model/_coordinate_descent.py:628: ConvergenceWarning: Objective did not converge. You might want to increase the number of iterations, check the scale of the features or consider increasing regularisation. Duality gap: 5.722e+03, tolerance: 2.984e+02\n",
      "  model = cd_fast.enet_coordinate_descent(\n",
      "/Users/xrong8/anaconda3/envs/pytorch/lib/python3.8/site-packages/sklearn/linear_model/_coordinate_descent.py:628: ConvergenceWarning: Objective did not converge. You might want to increase the number of iterations, check the scale of the features or consider increasing regularisation. Duality gap: 2.731e+03, tolerance: 3.823e+02\n",
      "  model = cd_fast.enet_coordinate_descent(\n",
      "/Users/xrong8/anaconda3/envs/pytorch/lib/python3.8/site-packages/sklearn/linear_model/_coordinate_descent.py:628: ConvergenceWarning: Objective did not converge. You might want to increase the number of iterations, check the scale of the features or consider increasing regularisation. Duality gap: 2.631e+02, tolerance: 2.625e+02\n",
      "  model = cd_fast.enet_coordinate_descent(\n",
      "/Users/xrong8/anaconda3/envs/pytorch/lib/python3.8/site-packages/sklearn/linear_model/_coordinate_descent.py:628: ConvergenceWarning: Objective did not converge. You might want to increase the number of iterations, check the scale of the features or consider increasing regularisation. Duality gap: 1.485e+04, tolerance: 4.858e+02\n",
      "  model = cd_fast.enet_coordinate_descent(\n",
      "/Users/xrong8/anaconda3/envs/pytorch/lib/python3.8/site-packages/sklearn/linear_model/_coordinate_descent.py:628: ConvergenceWarning: Objective did not converge. You might want to increase the number of iterations, check the scale of the features or consider increasing regularisation. Duality gap: 3.676e+03, tolerance: 4.938e+02\n",
      "  model = cd_fast.enet_coordinate_descent(\n",
      "/Users/xrong8/anaconda3/envs/pytorch/lib/python3.8/site-packages/sklearn/linear_model/_coordinate_descent.py:628: ConvergenceWarning: Objective did not converge. You might want to increase the number of iterations, check the scale of the features or consider increasing regularisation. Duality gap: 5.053e+03, tolerance: 5.022e+02\n",
      "  model = cd_fast.enet_coordinate_descent(\n",
      "/Users/xrong8/anaconda3/envs/pytorch/lib/python3.8/site-packages/sklearn/linear_model/_coordinate_descent.py:628: ConvergenceWarning: Objective did not converge. You might want to increase the number of iterations, check the scale of the features or consider increasing regularisation. Duality gap: 9.447e+03, tolerance: 3.263e+02\n",
      "  model = cd_fast.enet_coordinate_descent(\n",
      "/Users/xrong8/anaconda3/envs/pytorch/lib/python3.8/site-packages/sklearn/linear_model/_coordinate_descent.py:628: ConvergenceWarning: Objective did not converge. You might want to increase the number of iterations, check the scale of the features or consider increasing regularisation. Duality gap: 5.652e+02, tolerance: 3.431e+02\n",
      "  model = cd_fast.enet_coordinate_descent(\n",
      "/Users/xrong8/anaconda3/envs/pytorch/lib/python3.8/site-packages/sklearn/linear_model/_coordinate_descent.py:628: ConvergenceWarning: Objective did not converge. You might want to increase the number of iterations, check the scale of the features or consider increasing regularisation. Duality gap: 4.469e+03, tolerance: 4.097e+02\n",
      "  model = cd_fast.enet_coordinate_descent(\n",
      "/Users/xrong8/anaconda3/envs/pytorch/lib/python3.8/site-packages/sklearn/linear_model/_coordinate_descent.py:628: ConvergenceWarning: Objective did not converge. You might want to increase the number of iterations, check the scale of the features or consider increasing regularisation. Duality gap: 1.904e+04, tolerance: 3.306e+02\n",
      "  model = cd_fast.enet_coordinate_descent(\n",
      "/Users/xrong8/anaconda3/envs/pytorch/lib/python3.8/site-packages/sklearn/linear_model/_coordinate_descent.py:628: ConvergenceWarning: Objective did not converge. You might want to increase the number of iterations, check the scale of the features or consider increasing regularisation. Duality gap: 4.194e+03, tolerance: 4.029e+02\n",
      "  model = cd_fast.enet_coordinate_descent(\n",
      "/Users/xrong8/anaconda3/envs/pytorch/lib/python3.8/site-packages/sklearn/linear_model/_coordinate_descent.py:628: ConvergenceWarning: Objective did not converge. You might want to increase the number of iterations, check the scale of the features or consider increasing regularisation. Duality gap: 7.395e+03, tolerance: 3.574e+02\n",
      "  model = cd_fast.enet_coordinate_descent(\n",
      "/Users/xrong8/anaconda3/envs/pytorch/lib/python3.8/site-packages/sklearn/linear_model/_coordinate_descent.py:628: ConvergenceWarning: Objective did not converge. You might want to increase the number of iterations, check the scale of the features or consider increasing regularisation. Duality gap: 2.911e+03, tolerance: 3.895e+02\n",
      "  model = cd_fast.enet_coordinate_descent(\n",
      "/Users/xrong8/anaconda3/envs/pytorch/lib/python3.8/site-packages/sklearn/linear_model/_coordinate_descent.py:628: ConvergenceWarning: Objective did not converge. You might want to increase the number of iterations, check the scale of the features or consider increasing regularisation. Duality gap: 7.499e+03, tolerance: 2.807e+02\n",
      "  model = cd_fast.enet_coordinate_descent(\n",
      "/Users/xrong8/anaconda3/envs/pytorch/lib/python3.8/site-packages/sklearn/linear_model/_coordinate_descent.py:628: ConvergenceWarning: Objective did not converge. You might want to increase the number of iterations, check the scale of the features or consider increasing regularisation. Duality gap: 5.794e+02, tolerance: 2.996e+02\n",
      "  model = cd_fast.enet_coordinate_descent(\n",
      "/Users/xrong8/anaconda3/envs/pytorch/lib/python3.8/site-packages/sklearn/linear_model/_coordinate_descent.py:628: ConvergenceWarning: Objective did not converge. You might want to increase the number of iterations, check the scale of the features or consider increasing regularisation. Duality gap: 2.885e+04, tolerance: 6.240e+02\n",
      "  model = cd_fast.enet_coordinate_descent(\n",
      "/Users/xrong8/anaconda3/envs/pytorch/lib/python3.8/site-packages/sklearn/linear_model/_coordinate_descent.py:628: ConvergenceWarning: Objective did not converge. You might want to increase the number of iterations, check the scale of the features or consider increasing regularisation. Duality gap: 8.154e+03, tolerance: 4.467e+02\n",
      "  model = cd_fast.enet_coordinate_descent(\n",
      "/Users/xrong8/anaconda3/envs/pytorch/lib/python3.8/site-packages/sklearn/linear_model/_coordinate_descent.py:628: ConvergenceWarning: Objective did not converge. You might want to increase the number of iterations, check the scale of the features or consider increasing regularisation. Duality gap: 6.546e+02, tolerance: 5.122e+02\n",
      "  model = cd_fast.enet_coordinate_descent(\n",
      "/Users/xrong8/anaconda3/envs/pytorch/lib/python3.8/site-packages/sklearn/linear_model/_coordinate_descent.py:628: ConvergenceWarning: Objective did not converge. You might want to increase the number of iterations, check the scale of the features or consider increasing regularisation. Duality gap: 2.807e+04, tolerance: 3.652e+02\n",
      "  model = cd_fast.enet_coordinate_descent(\n",
      "/Users/xrong8/anaconda3/envs/pytorch/lib/python3.8/site-packages/sklearn/linear_model/_coordinate_descent.py:628: ConvergenceWarning: Objective did not converge. You might want to increase the number of iterations, check the scale of the features or consider increasing regularisation. Duality gap: 4.548e+03, tolerance: 4.972e+02\n",
      "  model = cd_fast.enet_coordinate_descent(\n",
      "/Users/xrong8/anaconda3/envs/pytorch/lib/python3.8/site-packages/sklearn/linear_model/_coordinate_descent.py:628: ConvergenceWarning: Objective did not converge. You might want to increase the number of iterations, check the scale of the features or consider increasing regularisation. Duality gap: 7.515e+02, tolerance: 3.706e+02\n",
      "  model = cd_fast.enet_coordinate_descent(\n",
      "/Users/xrong8/anaconda3/envs/pytorch/lib/python3.8/site-packages/sklearn/linear_model/_coordinate_descent.py:628: ConvergenceWarning: Objective did not converge. You might want to increase the number of iterations, check the scale of the features or consider increasing regularisation. Duality gap: 3.897e+02, tolerance: 3.085e+02\n",
      "  model = cd_fast.enet_coordinate_descent(\n"
     ]
    },
    {
     "name": "stdout",
     "output_type": "stream",
     "text": [
      "length of cluster_labels:  5000\n",
      "SSC Accuracy: 0.2337\n"
     ]
    }
   ],
   "source": [
    "_, ssc_accuracy = coneClustering.baseline_ssc(X_subset, true_labels, alpha=1e-3)\n",
    "print(f\"SSC Accuracy: {ssc_accuracy:.4f}\")"
   ]
  }
 ],
 "metadata": {
  "kernelspec": {
   "display_name": "pytorch",
   "language": "python",
   "name": "python3"
  },
  "language_info": {
   "codemirror_mode": {
    "name": "ipython",
    "version": 3
   },
   "file_extension": ".py",
   "mimetype": "text/x-python",
   "name": "python",
   "nbconvert_exporter": "python",
   "pygments_lexer": "ipython3",
   "version": "3.8.18"
  }
 },
 "nbformat": 4,
 "nbformat_minor": 2
}
