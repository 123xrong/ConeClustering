{
 "cells": [
  {
   "cell_type": "code",
   "execution_count": 1,
   "id": "d48a33fa",
   "metadata": {},
   "outputs": [],
   "source": [
    "from utils import *\n",
    "from coneClustering import *"
   ]
  },
  {
   "cell_type": "code",
   "execution_count": 2,
   "id": "7a6843f7",
   "metadata": {},
   "outputs": [],
   "source": [
    "X, true_labels = data_simulation(50, 5, 100, 4)"
   ]
  },
  {
   "cell_type": "code",
   "execution_count": 3,
   "id": "8102efd7",
   "metadata": {},
   "outputs": [
    {
     "data": {
      "text/plain": [
       "(400,)"
      ]
     },
     "execution_count": 3,
     "metadata": {},
     "output_type": "execute_result"
    }
   ],
   "source": [
    "true_labels.shape"
   ]
  },
  {
   "cell_type": "code",
   "execution_count": 6,
   "id": "f1a6b9af",
   "metadata": {},
   "outputs": [
    {
     "name": "stderr",
     "output_type": "stream",
     "text": [
      "/Users/xrong8/anaconda3/envs/opt/lib/python3.10/site-packages/sklearn/linear_model/_coordinate_descent.py:695: ConvergenceWarning: Objective did not converge. You might want to increase the number of iterations, check the scale of the features or consider increasing regularisation. Duality gap: 4.015e-03, tolerance: 2.629e-03\n",
      "  model = cd_fast.enet_coordinate_descent(\n",
      "/Users/xrong8/anaconda3/envs/opt/lib/python3.10/site-packages/sklearn/linear_model/_coordinate_descent.py:695: ConvergenceWarning: Objective did not converge. You might want to increase the number of iterations, check the scale of the features or consider increasing regularisation. Duality gap: 2.016e-03, tolerance: 1.165e-03\n",
      "  model = cd_fast.enet_coordinate_descent(\n",
      "/Users/xrong8/anaconda3/envs/opt/lib/python3.10/site-packages/sklearn/linear_model/_coordinate_descent.py:695: ConvergenceWarning: Objective did not converge. You might want to increase the number of iterations, check the scale of the features or consider increasing regularisation. Duality gap: 1.839e-03, tolerance: 1.021e-03\n",
      "  model = cd_fast.enet_coordinate_descent(\n",
      "/Users/xrong8/anaconda3/envs/opt/lib/python3.10/site-packages/sklearn/linear_model/_coordinate_descent.py:695: ConvergenceWarning: Objective did not converge. You might want to increase the number of iterations, check the scale of the features or consider increasing regularisation. Duality gap: 2.507e-03, tolerance: 1.698e-03\n",
      "  model = cd_fast.enet_coordinate_descent(\n",
      "/Users/xrong8/anaconda3/envs/opt/lib/python3.10/site-packages/sklearn/linear_model/_coordinate_descent.py:695: ConvergenceWarning: Objective did not converge. You might want to increase the number of iterations, check the scale of the features or consider increasing regularisation. Duality gap: 8.952e-04, tolerance: 7.314e-04\n",
      "  model = cd_fast.enet_coordinate_descent(\n",
      "/Users/xrong8/anaconda3/envs/opt/lib/python3.10/site-packages/sklearn/linear_model/_coordinate_descent.py:695: ConvergenceWarning: Objective did not converge. You might want to increase the number of iterations, check the scale of the features or consider increasing regularisation. Duality gap: 6.763e-04, tolerance: 6.280e-04\n",
      "  model = cd_fast.enet_coordinate_descent(\n",
      "/Users/xrong8/anaconda3/envs/opt/lib/python3.10/site-packages/sklearn/linear_model/_coordinate_descent.py:695: ConvergenceWarning: Objective did not converge. You might want to increase the number of iterations, check the scale of the features or consider increasing regularisation. Duality gap: 3.617e-03, tolerance: 1.069e-03\n",
      "  model = cd_fast.enet_coordinate_descent(\n",
      "/Users/xrong8/anaconda3/envs/opt/lib/python3.10/site-packages/sklearn/linear_model/_coordinate_descent.py:695: ConvergenceWarning: Objective did not converge. You might want to increase the number of iterations, check the scale of the features or consider increasing regularisation. Duality gap: 7.546e-03, tolerance: 2.835e-03\n",
      "  model = cd_fast.enet_coordinate_descent(\n",
      "/Users/xrong8/anaconda3/envs/opt/lib/python3.10/site-packages/sklearn/linear_model/_coordinate_descent.py:695: ConvergenceWarning: Objective did not converge. You might want to increase the number of iterations, check the scale of the features or consider increasing regularisation. Duality gap: 8.216e-04, tolerance: 5.105e-04\n",
      "  model = cd_fast.enet_coordinate_descent(\n",
      "/Users/xrong8/anaconda3/envs/opt/lib/python3.10/site-packages/sklearn/linear_model/_coordinate_descent.py:695: ConvergenceWarning: Objective did not converge. You might want to increase the number of iterations, check the scale of the features or consider increasing regularisation. Duality gap: 4.908e-04, tolerance: 4.479e-04\n",
      "  model = cd_fast.enet_coordinate_descent(\n",
      "/Users/xrong8/anaconda3/envs/opt/lib/python3.10/site-packages/sklearn/linear_model/_coordinate_descent.py:695: ConvergenceWarning: Objective did not converge. You might want to increase the number of iterations, check the scale of the features or consider increasing regularisation. Duality gap: 1.819e-03, tolerance: 6.373e-04\n",
      "  model = cd_fast.enet_coordinate_descent(\n",
      "/Users/xrong8/anaconda3/envs/opt/lib/python3.10/site-packages/sklearn/linear_model/_coordinate_descent.py:695: ConvergenceWarning: Objective did not converge. You might want to increase the number of iterations, check the scale of the features or consider increasing regularisation. Duality gap: 4.669e-03, tolerance: 2.047e-03\n",
      "  model = cd_fast.enet_coordinate_descent(\n",
      "/Users/xrong8/anaconda3/envs/opt/lib/python3.10/site-packages/sklearn/linear_model/_coordinate_descent.py:695: ConvergenceWarning: Objective did not converge. You might want to increase the number of iterations, check the scale of the features or consider increasing regularisation. Duality gap: 2.017e-03, tolerance: 4.206e-04\n",
      "  model = cd_fast.enet_coordinate_descent(\n",
      "/Users/xrong8/anaconda3/envs/opt/lib/python3.10/site-packages/sklearn/linear_model/_coordinate_descent.py:695: ConvergenceWarning: Objective did not converge. You might want to increase the number of iterations, check the scale of the features or consider increasing regularisation. Duality gap: 5.241e-03, tolerance: 1.696e-03\n",
      "  model = cd_fast.enet_coordinate_descent(\n",
      "/Users/xrong8/anaconda3/envs/opt/lib/python3.10/site-packages/sklearn/linear_model/_coordinate_descent.py:695: ConvergenceWarning: Objective did not converge. You might want to increase the number of iterations, check the scale of the features or consider increasing regularisation. Duality gap: 8.308e-04, tolerance: 7.948e-04\n",
      "  model = cd_fast.enet_coordinate_descent(\n",
      "/Users/xrong8/anaconda3/envs/opt/lib/python3.10/site-packages/sklearn/linear_model/_coordinate_descent.py:695: ConvergenceWarning: Objective did not converge. You might want to increase the number of iterations, check the scale of the features or consider increasing regularisation. Duality gap: 1.871e-03, tolerance: 3.728e-04\n",
      "  model = cd_fast.enet_coordinate_descent(\n",
      "/Users/xrong8/anaconda3/envs/opt/lib/python3.10/site-packages/sklearn/linear_model/_coordinate_descent.py:695: ConvergenceWarning: Objective did not converge. You might want to increase the number of iterations, check the scale of the features or consider increasing regularisation. Duality gap: 2.416e-03, tolerance: 2.181e-03\n",
      "  model = cd_fast.enet_coordinate_descent(\n",
      "/Users/xrong8/anaconda3/envs/opt/lib/python3.10/site-packages/sklearn/linear_model/_coordinate_descent.py:695: ConvergenceWarning: Objective did not converge. You might want to increase the number of iterations, check the scale of the features or consider increasing regularisation. Duality gap: 8.253e-04, tolerance: 7.111e-04\n",
      "  model = cd_fast.enet_coordinate_descent(\n",
      "/Users/xrong8/anaconda3/envs/opt/lib/python3.10/site-packages/sklearn/linear_model/_coordinate_descent.py:695: ConvergenceWarning: Objective did not converge. You might want to increase the number of iterations, check the scale of the features or consider increasing regularisation. Duality gap: 4.885e-04, tolerance: 3.939e-04\n",
      "  model = cd_fast.enet_coordinate_descent(\n",
      "/Users/xrong8/anaconda3/envs/opt/lib/python3.10/site-packages/sklearn/linear_model/_coordinate_descent.py:695: ConvergenceWarning: Objective did not converge. You might want to increase the number of iterations, check the scale of the features or consider increasing regularisation. Duality gap: 7.467e-04, tolerance: 3.816e-04\n",
      "  model = cd_fast.enet_coordinate_descent(\n",
      "/Users/xrong8/anaconda3/envs/opt/lib/python3.10/site-packages/sklearn/linear_model/_coordinate_descent.py:695: ConvergenceWarning: Objective did not converge. You might want to increase the number of iterations, check the scale of the features or consider increasing regularisation. Duality gap: 8.963e-04, tolerance: 4.565e-04\n",
      "  model = cd_fast.enet_coordinate_descent(\n",
      "/Users/xrong8/anaconda3/envs/opt/lib/python3.10/site-packages/sklearn/linear_model/_coordinate_descent.py:695: ConvergenceWarning: Objective did not converge. You might want to increase the number of iterations, check the scale of the features or consider increasing regularisation. Duality gap: 3.013e-03, tolerance: 4.014e-04\n",
      "  model = cd_fast.enet_coordinate_descent(\n"
     ]
    },
    {
     "name": "stdout",
     "output_type": "stream",
     "text": [
      "length of cluster_labels:  400\n"
     ]
    }
   ],
   "source": [
    "acc, ARI, NMI, loss = ssc_sparse_nmf_baseline(X, K=4, r=5, true_labels=true_labels,\n",
    "                                              random_state=42, alpha=0.01, l1_reg=0.05)"
   ]
  },
  {
   "cell_type": "code",
   "execution_count": 8,
   "id": "893e61aa",
   "metadata": {},
   "outputs": [
    {
     "name": "stdout",
     "output_type": "stream",
     "text": [
      "Accuracy: 0.2500\n",
      "Adjusted Rand Index: 1.0000\n",
      "Normalized Mutual Information: 1.0000\n",
      "Loss: 0.0304\n"
     ]
    }
   ],
   "source": [
    "print(f'Accuracy: {acc:.4f}')\n",
    "print(f'Adjusted Rand Index: {ARI:.4f}')\n",
    "print(f'Normalized Mutual Information: {NMI:.4f}')\n",
    "print(f'Loss: {loss:.4f}')"
   ]
  },
  {
   "cell_type": "code",
   "execution_count": 9,
   "id": "9cfb0ccb",
   "metadata": {},
   "outputs": [
    {
     "name": "stderr",
     "output_type": "stream",
     "text": [
      "/Users/xrong8/anaconda3/envs/opt/lib/python3.10/site-packages/sklearn/linear_model/_coordinate_descent.py:695: ConvergenceWarning: Objective did not converge. You might want to increase the number of iterations, check the scale of the features or consider increasing regularisation. Duality gap: 4.015e-03, tolerance: 2.629e-03\n",
      "  model = cd_fast.enet_coordinate_descent(\n",
      "/Users/xrong8/anaconda3/envs/opt/lib/python3.10/site-packages/sklearn/linear_model/_coordinate_descent.py:695: ConvergenceWarning: Objective did not converge. You might want to increase the number of iterations, check the scale of the features or consider increasing regularisation. Duality gap: 2.016e-03, tolerance: 1.165e-03\n",
      "  model = cd_fast.enet_coordinate_descent(\n",
      "/Users/xrong8/anaconda3/envs/opt/lib/python3.10/site-packages/sklearn/linear_model/_coordinate_descent.py:695: ConvergenceWarning: Objective did not converge. You might want to increase the number of iterations, check the scale of the features or consider increasing regularisation. Duality gap: 1.839e-03, tolerance: 1.021e-03\n",
      "  model = cd_fast.enet_coordinate_descent(\n",
      "/Users/xrong8/anaconda3/envs/opt/lib/python3.10/site-packages/sklearn/linear_model/_coordinate_descent.py:695: ConvergenceWarning: Objective did not converge. You might want to increase the number of iterations, check the scale of the features or consider increasing regularisation. Duality gap: 2.507e-03, tolerance: 1.698e-03\n",
      "  model = cd_fast.enet_coordinate_descent(\n",
      "/Users/xrong8/anaconda3/envs/opt/lib/python3.10/site-packages/sklearn/linear_model/_coordinate_descent.py:695: ConvergenceWarning: Objective did not converge. You might want to increase the number of iterations, check the scale of the features or consider increasing regularisation. Duality gap: 8.952e-04, tolerance: 7.314e-04\n",
      "  model = cd_fast.enet_coordinate_descent(\n",
      "/Users/xrong8/anaconda3/envs/opt/lib/python3.10/site-packages/sklearn/linear_model/_coordinate_descent.py:695: ConvergenceWarning: Objective did not converge. You might want to increase the number of iterations, check the scale of the features or consider increasing regularisation. Duality gap: 6.763e-04, tolerance: 6.280e-04\n",
      "  model = cd_fast.enet_coordinate_descent(\n",
      "/Users/xrong8/anaconda3/envs/opt/lib/python3.10/site-packages/sklearn/linear_model/_coordinate_descent.py:695: ConvergenceWarning: Objective did not converge. You might want to increase the number of iterations, check the scale of the features or consider increasing regularisation. Duality gap: 3.617e-03, tolerance: 1.069e-03\n",
      "  model = cd_fast.enet_coordinate_descent(\n",
      "/Users/xrong8/anaconda3/envs/opt/lib/python3.10/site-packages/sklearn/linear_model/_coordinate_descent.py:695: ConvergenceWarning: Objective did not converge. You might want to increase the number of iterations, check the scale of the features or consider increasing regularisation. Duality gap: 7.546e-03, tolerance: 2.835e-03\n",
      "  model = cd_fast.enet_coordinate_descent(\n",
      "/Users/xrong8/anaconda3/envs/opt/lib/python3.10/site-packages/sklearn/linear_model/_coordinate_descent.py:695: ConvergenceWarning: Objective did not converge. You might want to increase the number of iterations, check the scale of the features or consider increasing regularisation. Duality gap: 8.216e-04, tolerance: 5.105e-04\n",
      "  model = cd_fast.enet_coordinate_descent(\n",
      "/Users/xrong8/anaconda3/envs/opt/lib/python3.10/site-packages/sklearn/linear_model/_coordinate_descent.py:695: ConvergenceWarning: Objective did not converge. You might want to increase the number of iterations, check the scale of the features or consider increasing regularisation. Duality gap: 4.908e-04, tolerance: 4.479e-04\n",
      "  model = cd_fast.enet_coordinate_descent(\n",
      "/Users/xrong8/anaconda3/envs/opt/lib/python3.10/site-packages/sklearn/linear_model/_coordinate_descent.py:695: ConvergenceWarning: Objective did not converge. You might want to increase the number of iterations, check the scale of the features or consider increasing regularisation. Duality gap: 1.819e-03, tolerance: 6.373e-04\n",
      "  model = cd_fast.enet_coordinate_descent(\n",
      "/Users/xrong8/anaconda3/envs/opt/lib/python3.10/site-packages/sklearn/linear_model/_coordinate_descent.py:695: ConvergenceWarning: Objective did not converge. You might want to increase the number of iterations, check the scale of the features or consider increasing regularisation. Duality gap: 4.669e-03, tolerance: 2.047e-03\n",
      "  model = cd_fast.enet_coordinate_descent(\n",
      "/Users/xrong8/anaconda3/envs/opt/lib/python3.10/site-packages/sklearn/linear_model/_coordinate_descent.py:695: ConvergenceWarning: Objective did not converge. You might want to increase the number of iterations, check the scale of the features or consider increasing regularisation. Duality gap: 2.017e-03, tolerance: 4.206e-04\n",
      "  model = cd_fast.enet_coordinate_descent(\n",
      "/Users/xrong8/anaconda3/envs/opt/lib/python3.10/site-packages/sklearn/linear_model/_coordinate_descent.py:695: ConvergenceWarning: Objective did not converge. You might want to increase the number of iterations, check the scale of the features or consider increasing regularisation. Duality gap: 5.241e-03, tolerance: 1.696e-03\n",
      "  model = cd_fast.enet_coordinate_descent(\n",
      "/Users/xrong8/anaconda3/envs/opt/lib/python3.10/site-packages/sklearn/linear_model/_coordinate_descent.py:695: ConvergenceWarning: Objective did not converge. You might want to increase the number of iterations, check the scale of the features or consider increasing regularisation. Duality gap: 8.308e-04, tolerance: 7.948e-04\n",
      "  model = cd_fast.enet_coordinate_descent(\n",
      "/Users/xrong8/anaconda3/envs/opt/lib/python3.10/site-packages/sklearn/linear_model/_coordinate_descent.py:695: ConvergenceWarning: Objective did not converge. You might want to increase the number of iterations, check the scale of the features or consider increasing regularisation. Duality gap: 1.871e-03, tolerance: 3.728e-04\n",
      "  model = cd_fast.enet_coordinate_descent(\n",
      "/Users/xrong8/anaconda3/envs/opt/lib/python3.10/site-packages/sklearn/linear_model/_coordinate_descent.py:695: ConvergenceWarning: Objective did not converge. You might want to increase the number of iterations, check the scale of the features or consider increasing regularisation. Duality gap: 2.416e-03, tolerance: 2.181e-03\n",
      "  model = cd_fast.enet_coordinate_descent(\n",
      "/Users/xrong8/anaconda3/envs/opt/lib/python3.10/site-packages/sklearn/linear_model/_coordinate_descent.py:695: ConvergenceWarning: Objective did not converge. You might want to increase the number of iterations, check the scale of the features or consider increasing regularisation. Duality gap: 8.253e-04, tolerance: 7.111e-04\n",
      "  model = cd_fast.enet_coordinate_descent(\n",
      "/Users/xrong8/anaconda3/envs/opt/lib/python3.10/site-packages/sklearn/linear_model/_coordinate_descent.py:695: ConvergenceWarning: Objective did not converge. You might want to increase the number of iterations, check the scale of the features or consider increasing regularisation. Duality gap: 4.885e-04, tolerance: 3.939e-04\n",
      "  model = cd_fast.enet_coordinate_descent(\n",
      "/Users/xrong8/anaconda3/envs/opt/lib/python3.10/site-packages/sklearn/linear_model/_coordinate_descent.py:695: ConvergenceWarning: Objective did not converge. You might want to increase the number of iterations, check the scale of the features or consider increasing regularisation. Duality gap: 7.467e-04, tolerance: 3.816e-04\n",
      "  model = cd_fast.enet_coordinate_descent(\n",
      "/Users/xrong8/anaconda3/envs/opt/lib/python3.10/site-packages/sklearn/linear_model/_coordinate_descent.py:695: ConvergenceWarning: Objective did not converge. You might want to increase the number of iterations, check the scale of the features or consider increasing regularisation. Duality gap: 8.963e-04, tolerance: 4.565e-04\n",
      "  model = cd_fast.enet_coordinate_descent(\n",
      "/Users/xrong8/anaconda3/envs/opt/lib/python3.10/site-packages/sklearn/linear_model/_coordinate_descent.py:695: ConvergenceWarning: Objective did not converge. You might want to increase the number of iterations, check the scale of the features or consider increasing regularisation. Duality gap: 3.013e-03, tolerance: 4.014e-04\n",
      "  model = cd_fast.enet_coordinate_descent(\n"
     ]
    },
    {
     "name": "stdout",
     "output_type": "stream",
     "text": [
      "length of cluster_labels:  400\n",
      "Accuracy: 0.2500\n",
      "Adjusted Rand Index: 1.0000\n",
      "Normalized Mutual Information: 1.0000\n",
      "Loss: 0.0018\n"
     ]
    }
   ],
   "source": [
    "acc, ARI, NMI, loss = ssc_nmf_baseline(X, K=4, r=5, true_labels=true_labels)\n",
    "print(f'Accuracy: {acc:.4f}')\n",
    "print(f'Adjusted Rand Index: {ARI:.4f}')\n",
    "print(f'Normalized Mutual Information: {NMI:.4f}')\n",
    "print(f'Loss: {loss:.4f}')"
   ]
  }
 ],
 "metadata": {
  "kernelspec": {
   "display_name": "opt",
   "language": "python",
   "name": "python3"
  },
  "language_info": {
   "codemirror_mode": {
    "name": "ipython",
    "version": 3
   },
   "file_extension": ".py",
   "mimetype": "text/x-python",
   "name": "python",
   "nbconvert_exporter": "python",
   "pygments_lexer": "ipython3",
   "version": "3.10.16"
  }
 },
 "nbformat": 4,
 "nbformat_minor": 5
}
